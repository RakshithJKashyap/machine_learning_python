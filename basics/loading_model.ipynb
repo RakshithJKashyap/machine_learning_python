{
 "cells": [
  {
   "cell_type": "code",
   "execution_count": 2,
   "id": "5708cf0f",
   "metadata": {},
   "outputs": [],
   "source": [
    "import pickle"
   ]
  },
  {
   "cell_type": "code",
   "execution_count": 3,
   "id": "c4d464a2",
   "metadata": {},
   "outputs": [],
   "source": [
    "with open('hp_model','rb') as f:\n",
    "    hp = pickle.load(f)"
   ]
  },
  {
   "cell_type": "code",
   "execution_count": 4,
   "id": "048c3169",
   "metadata": {},
   "outputs": [
    {
     "data": {
      "text/plain": [
       "array([25465.75342466])"
      ]
     },
     "execution_count": 4,
     "metadata": {},
     "output_type": "execute_result"
    }
   ],
   "source": [
    "hp.predict([[2600]])"
   ]
  },
  {
   "cell_type": "code",
   "execution_count": 5,
   "id": "411fb98c",
   "metadata": {},
   "outputs": [],
   "source": [
    "import joblib\n",
    "from sklearn import linear_model"
   ]
  },
  {
   "cell_type": "code",
   "execution_count": 18,
   "id": "ef858fea",
   "metadata": {},
   "outputs": [],
   "source": [
    "abc=joblib.load('hp_joblib')"
   ]
  },
  {
   "cell_type": "code",
   "execution_count": 19,
   "id": "47252b10",
   "metadata": {},
   "outputs": [
    {
     "data": {
      "text/plain": [
       "array([25465.75342466])"
      ]
     },
     "execution_count": 19,
     "metadata": {},
     "output_type": "execute_result"
    }
   ],
   "source": [
    "abc.predict([[2600]])"
   ]
  },
  {
   "cell_type": "code",
   "execution_count": 21,
   "id": "141245b7",
   "metadata": {},
   "outputs": [
    {
     "data": {
      "text/plain": [
       "array([19.31506849])"
      ]
     },
     "execution_count": 21,
     "metadata": {},
     "output_type": "execute_result"
    }
   ],
   "source": [
    "abc.coef_"
   ]
  },
  {
   "cell_type": "code",
   "execution_count": 22,
   "id": "93f214ba",
   "metadata": {},
   "outputs": [
    {
     "data": {
      "text/plain": [
       "-24753.42465753424"
      ]
     },
     "execution_count": 22,
     "metadata": {},
     "output_type": "execute_result"
    }
   ],
   "source": [
    "abc.intercept_"
   ]
  },
  {
   "cell_type": "code",
   "execution_count": null,
   "id": "6466c7bc",
   "metadata": {},
   "outputs": [],
   "source": []
  }
 ],
 "metadata": {
  "kernelspec": {
   "display_name": "Python 3",
   "language": "python",
   "name": "python3"
  },
  "language_info": {
   "codemirror_mode": {
    "name": "ipython",
    "version": 3
   },
   "file_extension": ".py",
   "mimetype": "text/x-python",
   "name": "python",
   "nbconvert_exporter": "python",
   "pygments_lexer": "ipython3",
   "version": "3.8.8"
  }
 },
 "nbformat": 4,
 "nbformat_minor": 5
}
